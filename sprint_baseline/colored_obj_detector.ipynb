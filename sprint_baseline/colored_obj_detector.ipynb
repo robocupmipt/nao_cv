{
 "cells": [
  {
   "cell_type": "code",
   "execution_count": 1,
   "metadata": {},
   "outputs": [],
   "source": [
    "import cv2"
   ]
  },
  {
   "cell_type": "code",
   "execution_count": 18,
   "metadata": {},
   "outputs": [],
   "source": [
    "def show_hsv (img):\n",
    "    hsv = cv2.cvtColor (img, cv2.COLOR_BGR2HSV)\n",
    "    \n",
    "    cv2.imshow (\"hsv image\", hsv)\n",
    "\n",
    "def find_marker (img, color):\n",
    "    hsv = cv2.cvtColor (img, cv2.COLOR_BGR2HSV)\n",
    "    thresh = cv2.inRange(hsv, color[0], color[1])\n",
    "    \n",
    "    cv2.imshow (\"fuck\", thresh)\n",
    "    \n",
    "    moments = cv2.moments(thresh, 1)\n",
    "    dM01 = moments['m01']\n",
    "    dM10 = moments['m10']\n",
    "    dArea = moments['m00']\n",
    "    \n",
    "    marker_coord = [-5, -5]\n",
    "    \n",
    "    print (dArea)\n",
    "    \n",
    "    if dArea > 5:\n",
    "        x = int(dM10 / dArea)\n",
    "        y = int(dM01 / dArea)\n",
    "        marker_coord[0] = x\n",
    "        marker_coord[1] = y\n",
    "    \n",
    "        cv2.circle (img, (x, y), 10, (0,0,255), -1)\n",
    "        cv2.imshow (\"detected\", img)\n",
    "    \n",
    "    return marker_coord"
   ]
  },
  {
   "cell_type": "code",
   "execution_count": 19,
   "metadata": {},
   "outputs": [
    {
     "name": "stdout",
     "output_type": "stream",
     "text": [
      "6.0\n"
     ]
    }
   ],
   "source": [
    "#inp = cv2.imread (\"IMAGE8.jpg\")\n",
    "inp = cv2.imread (\"img33.jpg\")\n",
    "\n",
    "#img = cv2.cvtColor (inp, cv2.COLOR_BGR2RGB)\n",
    "\n",
    "img = inp\n",
    "\n",
    "cv2.imshow (\"inp\", img)\n",
    "\n",
    "show_hsv (img)\n",
    "\n",
    "#marker_color_min = (0, 240, 185)\n",
    "\n",
    "#marker_color_min = (0, 240, 135)\n",
    "#marker_color_max = (20, 255, 205)\n",
    "\n",
    "marker_color_min = (0, 230, 80)\n",
    "marker_color_max = (30, 255, 210)\n",
    "\n",
    "marker_color_min = (80, 230, 20)\n",
    "marker_color_max = (160, 255, 40)\n",
    "\n",
    "find_marker (img, (marker_color_min, marker_color_max))\n",
    "\n",
    "cv2.waitKey (0)\n",
    "\n",
    "cv2.destroyAllWindows ()"
   ]
  },
  {
   "cell_type": "code",
   "execution_count": null,
   "metadata": {},
   "outputs": [],
   "source": []
  }
 ],
 "metadata": {
  "kernelspec": {
   "display_name": "Python 3",
   "language": "python",
   "name": "python3"
  },
  "language_info": {
   "codemirror_mode": {
    "name": "ipython",
    "version": 3
   },
   "file_extension": ".py",
   "mimetype": "text/x-python",
   "name": "python",
   "nbconvert_exporter": "python",
   "pygments_lexer": "ipython3",
   "version": "3.7.1"
  }
 },
 "nbformat": 4,
 "nbformat_minor": 2
}
