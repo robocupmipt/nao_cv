{
 "cells": [
  {
   "cell_type": "code",
   "execution_count": 16,
   "metadata": {},
   "outputs": [
    {
     "data": {
      "text/plain": [
       "[0, 1]"
      ]
     },
     "execution_count": 16,
     "metadata": {},
     "output_type": "execute_result"
    }
   ],
   "source": [
    "import numpy as np\n",
    "import cv2\n",
    "import time\n",
    "from IPython.display import clear_output\n",
    "\n",
    "def get_available_cameras (upper_bound = 10, lower_bound = 0):\n",
    "    available = []\n",
    "    \n",
    "    for i in range (lower_bound, upper_bound):\n",
    "        cap = cv2.VideoCapture (i)\n",
    "    \n",
    "        if (cap.isOpened ()):\n",
    "            available.append (i)\n",
    "    \n",
    "        cap.release ()\n",
    "    \n",
    "    return available\n",
    "\n",
    "get_available_cameras ()"
   ]
  },
  {
   "cell_type": "code",
   "execution_count": 17,
   "metadata": {
    "scrolled": true
   },
   "outputs": [],
   "source": [
    "cam1 = cv2.VideoCapture (1)\n",
    "\n",
    "cv2.namedWindow (\"frame\", cv2.WINDOW_NORMAL)\n",
    "\n",
    "cv2.resizeWindow (\"frame\", (960, 720))\n",
    "\n",
    "while (True):\n",
    "    ret1, frame1 = cam1.read ()\n",
    "    \n",
    "    cv2.waitKey (1)\n",
    "    \n",
    "    ker_sz = 19\n",
    "    \n",
    "    #frame = frame1 - cv2.morphologyEx (frame1, cv2.MORPH_OPEN, np.ones ((ker_sz, ker_sz), np.uint8))\n",
    "    #frame = cv2.morphologyEx (frame1, cv2.MORPH_OPEN, np.ones ((ker_sz, ker_sz), np.uint8))\n",
    "    \n",
    "    frame = frame1 + 100\n",
    "    \n",
    "    resized = cv2.resize (frame, (960, 720))\n",
    "    \n",
    "    cv2.imshow (\"frame\", resized)\n",
    "    \n",
    "    time.sleep (0.01)\n",
    "    \n",
    "    if (cv2.waitKey (1) & 0xFF == ord('q')):\n",
    "        break\n",
    "\n",
    "cam1.release ()\n",
    "\n",
    "cv2.destroyAllWindows()"
   ]
  },
  {
   "cell_type": "code",
   "execution_count": null,
   "metadata": {},
   "outputs": [],
   "source": []
  }
 ],
 "metadata": {
  "kernelspec": {
   "display_name": "Python 3",
   "language": "python",
   "name": "python3"
  },
  "language_info": {
   "codemirror_mode": {
    "name": "ipython",
    "version": 3
   },
   "file_extension": ".py",
   "mimetype": "text/x-python",
   "name": "python",
   "nbconvert_exporter": "python",
   "pygments_lexer": "ipython3",
   "version": "3.7.3"
  }
 },
 "nbformat": 4,
 "nbformat_minor": 2
}
