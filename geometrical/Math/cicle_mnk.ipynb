{
 "cells": [
  {
   "cell_type": "code",
   "execution_count": 3,
   "metadata": {},
   "outputs": [],
   "source": [
    "import numpy as np\n",
    "import matplotlib.pyplot as plt\n",
    "import matplotlib\n",
    "\n",
    "\n",
    "sin = np.sin\n",
    "cos = np.cos\n",
    "pi  = np.pi\n",
    "arr = np.array\n",
    "\n",
    "\n",
    "def circle(c, r, n, ang=2*pi):\n",
    "    '''\n",
    "    Gets coordinates of circle, radius and number of points\n",
    "    Return set of points\n",
    "    '''\n",
    "    a = np.linspace(0, ang, n, endpoint=False)\n",
    "    points = c * np.ones([n, 2]) + r * arr([cos(a), sin(a)]).transpose()\n",
    "    \n",
    "    return points \n",
    "\n",
    "\n",
    "def spoil(points, error):\n",
    "    '''\n",
    "    Gets points and add noize limited by \"error\"\n",
    "    Return spoiled set\n",
    "    '''\n",
    "    rand_err = 2*np.random.rand(n, 2)-1\n",
    "    \n",
    "    spoiled = points + err * rand_err\n",
    "    \n",
    "    return  spoiled\n",
    "\n",
    "def circle_lstsq(points):\n",
    "    '''\n",
    "    Gets points of spoiled circle \n",
    "    Returns radius, and coordinates of the center\n",
    "    '''\n",
    "    x = points.transpose()[0]\n",
    "    y = points.transpose()[1]\n",
    "    \n",
    "    X2 = np.sum(x*x)\n",
    "    Y2 = np.sum(y*y)\n",
    "    X  = np.sum(x)\n",
    "    Y  = np.sum(y)\n",
    "    XY = np.sum(y*x)\n",
    "\n",
    "    X3  = np.sum(x*x*x)\n",
    "    Y3  = np.sum(y*y*y)\n",
    "    XY2 = np.sum(x*y*y)\n",
    "    X2Y = np.sum(x*x*y)\n",
    "\n",
    "    N11 = 2 * (X2 - 1/n * X**2)\n",
    "    N12 = 2 * (XY - 1/n * X*Y)\n",
    "    N21 = 2 * (XY - 1/n * X*Y)\n",
    "    N22 = 2 * (Y2 - 1/n * Y**2)\n",
    "\n",
    "    W1 = X3 + XY2 - 1/n * X * (X2 + Y2)\n",
    "    W2 = Y3 + X2Y - 1/n * Y * (X2 + Y2)\n",
    "\n",
    "    N = arr([[N11, N12], [N21, N22]])\n",
    "    W = arr([W1, W2])\n",
    "\n",
    "    C = np.linalg.solve(N, W)\n",
    "    R2 = C[0]**2 + C[1]**2 + 1/n * (X2 + Y2 - 2 * (C[0] * X + C[1] * Y))\n",
    "    R = np.sqrt(R2)\n",
    "    \n",
    "    return C, R\n",
    "\n"
   ]
  },
  {
   "cell_type": "code",
   "execution_count": 8,
   "metadata": {},
   "outputs": [
    {
     "name": "stdout",
     "output_type": "stream",
     "text": [
      "100 [100 100]\n",
      "\n",
      "91.6 [107.8 103.6]\n"
     ]
    },
    {
     "data": {
      "image/png": "[encoded data removed]",
      "text/plain": [
       "<Figure size 504x504 with 1 Axes>"
      ]
     },
     "metadata": {
      "needs_background": "light"
     },
     "output_type": "display_data"
    }
   ],
   "source": [
    "n = 30\n",
    "\n",
    "r   = 100\n",
    "c   = arr([100, 100])\n",
    "err = r / 50\n",
    "\n",
    "\n",
    "perfect = circle(c, r, n)\n",
    "part    = circle(c, r, n, ang=60/180*pi)\n",
    "spoiled = spoil(part, err)\n",
    "\n",
    "C, R = circle_lstsq(spoiled)\n",
    "calculated = circle(C, R, n)\n",
    "\n",
    "\n",
    "fig = matplotlib.pyplot.gcf()\n",
    "fig.set_size_inches(7, 7)\n",
    "\n",
    "def plt_circle(points, color=None):\n",
    "    plt.plot(points.transpose()[0], points.transpose()[1], color)\n",
    "    \n",
    "plt_circle(perfect, 'red')\n",
    "plt_circle(spoiled, '.')\n",
    "plt_circle(calculated, 'orange')\n",
    "\n",
    "print (r, c)\n",
    "print ()\n",
    "print (np.round(R, 1), np.around(C, 1))\n",
    "\n",
    "plt.show()"
   ]
  },
  {
   "cell_type": "code",
   "execution_count": 13,
   "metadata": {},
   "outputs": [
    {
     "name": "stdout",
     "output_type": "stream",
     "text": [
      "30\n"
     ]
    }
   ],
   "source": [
    "print (len(spoiled))"
   ]
  },
  {
   "cell_type": "code",
   "execution_count": 273,
   "metadata": {},
   "outputs": [
    {
     "data": {
      "text/plain": [
       "\"import numpy as np\\nfrom mpl_toolkits.mplot3d import Axes3D\\nimport matplotlib.pyplot as plt\\n\\n%matplotlib notebook\\n\\nfig = plt.figure(figsize=(7, 7))\\nax = fig.gca(projection='3d')\\n\\nY = perfect.T[0]\\nX = np.zeros(Y.shape)\\nZ = perfect.T[1]\\n\\nax.plot(X, Y, Z, label='parametric curve')\\nax.plot(np.zeros(calculated.T[0].shape), calculated.T[0], calculated.T[1], label='parametric curve')\\nax.plot(np.zeros(spoiled.T[0].shape), spoiled.T[0], spoiled.T[1], 'o')\\nax.set_xlabel('x axis')\\nax.set_ylabel('y axis')\\nax.set_zlabel('z axis')\\n\\nplt.show()\\n\""
      ]
     },
     "execution_count": 273,
     "metadata": {},
     "output_type": "execute_result"
    }
   ],
   "source": [
    "'''import numpy as np\n",
    "from mpl_toolkits.mplot3d import Axes3D\n",
    "import matplotlib.pyplot as plt\n",
    "\n",
    "%matplotlib notebook\n",
    "\n",
    "fig = plt.figure(figsize=(7, 7))\n",
    "ax = fig.gca(projection='3d')\n",
    "\n",
    "Y = perfect.T[0]\n",
    "X = np.zeros(Y.shape)\n",
    "Z = perfect.T[1]\n",
    "\n",
    "ax.plot(X, Y, Z, label='parametric curve')\n",
    "ax.plot(np.zeros(calculated.T[0].shape), calculated.T[0], calculated.T[1], label='parametric curve')\n",
    "ax.plot(np.zeros(spoiled.T[0].shape), spoiled.T[0], spoiled.T[1], 'o')\n",
    "ax.set_xlabel('x axis')\n",
    "ax.set_ylabel('y axis')\n",
    "ax.set_zlabel('z axis')\n",
    "\n",
    "plt.show()\n",
    "'''\n"
   ]
  },
  {
   "cell_type": "code",
   "execution_count": 6,
   "metadata": {},
   "outputs": [
    {
     "name": "stdout",
     "output_type": "stream",
     "text": [
      "[[200.         100.        ]\n",
      " [197.81476007 120.79116908]\n",
      " [191.35454576 140.67366431]\n",
      " [180.90169944 158.77852523]\n",
      " [166.91306064 174.31448255]\n",
      " [150.         186.60254038]\n",
      " [130.90169944 195.10565163]\n",
      " [110.45284633 199.45218954]\n",
      " [ 89.54715367 199.45218954]\n",
      " [ 69.09830056 195.10565163]\n",
      " [ 50.         186.60254038]\n",
      " [ 33.08693936 174.31448255]\n",
      " [ 19.09830056 158.77852523]\n",
      " [  8.64545424 140.67366431]\n",
      " [  2.18523993 120.79116908]\n",
      " [  0.         100.        ]\n",
      " [  2.18523993  79.20883092]\n",
      " [  8.64545424  59.32633569]\n",
      " [ 19.09830056  41.22147477]\n",
      " [ 33.08693936  25.68551745]\n",
      " [ 50.          13.39745962]\n",
      " [ 69.09830056   4.89434837]\n",
      " [ 89.54715367   0.54781046]\n",
      " [110.45284633   0.54781046]\n",
      " [130.90169944   4.89434837]\n",
      " [150.          13.39745962]\n",
      " [166.91306064  25.68551745]\n",
      " [180.90169944  41.22147477]\n",
      " [191.35454576  59.32633569]\n",
      " [197.81476007  79.20883092]]\n"
     ]
    }
   ],
   "source": [
    "print (perfect)"
   ]
  }
 ],
 "metadata": {
  "kernelspec": {
   "display_name": "Python 3",
   "language": "python",
   "name": "python3"
  },
  "language_info": {
   "codemirror_mode": {
    "name": "ipython",
    "version": 3
   },
   "file_extension": ".py",
   "mimetype": "text/x-python",
   "name": "python",
   "nbconvert_exporter": "python",
   "pygments_lexer": "ipython3",
   "version": "3.7.2"
  }
 },
 "nbformat": 4,
 "nbformat_minor": 2
}
