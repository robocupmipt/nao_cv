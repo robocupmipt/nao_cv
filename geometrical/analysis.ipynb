{
 "cells": [
  {
   "cell_type": "code",
   "execution_count": 1,
   "metadata": {
    "scrolled": false
   },
   "outputs": [
    {
     "name": "stdout",
     "output_type": "stream",
     "text": [
      "ca, cb, cc:  [ 67.3877879  663.02458678] [-2.20132757  0.01944895] [-0.25485245 -0.91329796]\n",
      "p:  [[ 6.73877879e+01 -1.14439604e+00 -2.57695109e-01]\n",
      " [ 6.63024587e+02  1.94464970e-02 -1.15130923e+00]]\n",
      "q:\n",
      " [[[  -0.92050127 -168.46499109   -3.13263636]\n",
      "  [ -73.09197842 -166.10337364 -248.74554451]\n",
      "  [-140.97816506  143.54492703    2.66924336]]\n",
      "\n",
      " [[ 158.59510872 -286.19410325  596.98587038]\n",
      "  [ 131.11202817 -518.75017262  493.53368391]\n",
      "  [-183.44678285 -287.36563439  599.42962282]]]\n",
      "q:\n",
      " [[[  -0.92050127 -168.46499109   -3.13263636]\n",
      "  [ -73.09197842 -166.10337364 -248.74554451]\n",
      "  [-140.97816506  143.54492703    2.66924336]]\n",
      "\n",
      " [[ 158.59510872 -286.19410325  596.98587038]\n",
      "  [ 131.11202817 -518.75017262  493.53368391]\n",
      "  [-183.44678285 -287.36563439  599.42962282]]]\n"
     ]
    },
    {
     "data": {
      "text/plain": [
       "<matplotlib.image.AxesImage at 0x10318950>"
      ]
     },
     "execution_count": 1,
     "metadata": {},
     "output_type": "execute_result"
    }
   ],
   "source": [
    "import cv2\n",
    "import time\n",
    "import numpy as np\n",
    "import os\n",
    "from os import listdir\n",
    "from os.path import isfile, join\n",
    "from matplotlib import pyplot as plt\n",
    "from IPython.display import clear_output\n",
    "\n",
    "%run math_calibration.ipynb\n",
    "\n",
    "arr = np.array\n",
    "\n",
    "path = r'C:\\nao_cv\\geometrical\\chessboard_images\\\\'\n",
    "\n",
    "os.chdir(path)\n",
    "\n",
    "size  = 38\n",
    "shape = (7, 7)\n",
    "\n",
    "\n",
    "files  = [f for f in listdir(path) if isfile(join(path, f))][::1]\n",
    "photos = [x for x in files if (x[-4:] == '.jpg')]\n",
    "strs   = [''.join([' ' if y == '_' else y for y in x]) for x in photos]\n",
    "nums   = [[int(s) for s in x.split() if s.isdigit()][0] for x in strs]\n",
    "\n",
    "frames = arr([dict(zip(['name', 'num'], x)) for x in arr([files, nums]).T])\n",
    "frames = arr(sorted(frames, key = lambda k: int(k['num'])))\n",
    "\n",
    "\n",
    "def text_data(frame, data):\n",
    "    text = ''\n",
    "    text += 'name:\\n'\n",
    "    text += '  %s\\n' % (frame['name'])\n",
    "    \n",
    "    \n",
    "    text += 'dist:  %s\\n' % np.str(frame['num'])\n",
    "            \n",
    "        \n",
    "    text += 'calc:\\n'\n",
    "    if (data == None):\n",
    "        text += '  None\\n'\n",
    "    else:\n",
    "        for i in range(len(data)):\n",
    "            for key in data[i]:\n",
    "                if (key not in ['opt_len', 'corners', 'optical']):\n",
    "                    text += '  %s:  %s\\n' % (key, np.str(np.around(data[i][key])))\n",
    "            \n",
    "    text += '\\n'\n",
    "    return text\n",
    "\n",
    "\n",
    "import cv2\n",
    "import time\n",
    "import numpy as np\n",
    "import os\n",
    "from os import listdir\n",
    "from os.path import isfile, join\n",
    "from matplotlib import pyplot as plt\n",
    "from IPython.display import clear_output\n",
    "\n",
    "\n",
    "i = 100\n",
    "\n",
    "image = cv2.imread(frames[i]['name'])\n",
    "data  = calibration_data(image, shape, size)\n",
    "\n",
    "k = 2.5\n",
    "plt.figure(figsize=(4*k, 3*k))\n",
    "\n",
    "text = text_data(frames[i], data)\n",
    "plt.gcf().text(0.76, 0.5, text, fontsize=14)\n",
    "\n",
    "plt.imshow(image)"
   ]
  },
  {
   "cell_type": "code",
   "execution_count": null,
   "metadata": {},
   "outputs": [],
   "source": []
  },
  {
   "cell_type": "code",
   "execution_count": null,
   "metadata": {},
   "outputs": [],
   "source": []
  },
  {
   "cell_type": "code",
   "execution_count": null,
   "metadata": {
    "scrolled": false
   },
   "outputs": [],
   "source": [
    "i = 0\n",
    "while (i <= len(frames)):\n",
    "    \n",
    "    clear_output()\n",
    "    print ('iteration: ', i)\n",
    "    \n",
    "    \n",
    "    k = 2.5\n",
    "    plt.figure(figsize=(4*k, 3*k))\n",
    "    \n",
    "    image = cv2.imread(frames[i]['name'])\n",
    "    data  = calibration_data(image, shape, size)\n",
    "    \n",
    "    text = text_data(frames[i], data)\n",
    "    plt.gcf().text(0.76, 0.6, text, fontsize=14)\n",
    "    \n",
    "    plt.imshow(image)\n",
    "    plt.show()\n",
    "    \n",
    "    key = input('Press fucking key: ')\n",
    "    \n",
    "    if (key != ''):\n",
    "        i = int(key)\n",
    "    else:\n",
    "        i += 10\n",
    "\n",
    "    if (key == 'end'):\n",
    "        break\n",
    "    if (i >= 889):\n",
    "        i = 889"
   ]
  },
  {
   "cell_type": "code",
   "execution_count": null,
   "metadata": {},
   "outputs": [],
   "source": [
    "250\n"
   ]
  }
 ],
 "metadata": {
  "kernelspec": {
   "display_name": "Python 3",
   "language": "python",
   "name": "python3"
  },
  "language_info": {
   "codemirror_mode": {
    "name": "ipython",
    "version": 3
   },
   "file_extension": ".py",
   "mimetype": "text/x-python",
   "name": "python",
   "nbconvert_exporter": "python",
   "pygments_lexer": "ipython3",
   "version": "3.7.2"
  }
 },
 "nbformat": 4,
 "nbformat_minor": 2
}
