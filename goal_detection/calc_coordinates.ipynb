{
 "cells": [
  {
   "cell_type": "code",
   "execution_count": 60,
   "metadata": {},
   "outputs": [],
   "source": [
    "import numpy as np\n",
    "import math\n",
    "\n",
    "\n",
    "def position_calc(k1, k2, x0, y0):\n",
    "    \"\"\"\n",
    "    Makes necessary calculations\n",
    "    \n",
    "    Arguments:\n",
    "        k1 - rotation around Z axis angle. from -1 to 1\n",
    "        k2 - incline  angle.               from  0 t0 1\n",
    "        x0 - x coordinate of the point on the screen, pixels\n",
    "        y0 - y coordinate of the point on the screen, pixels\n",
    "        \n",
    "    \"\"\"   \n",
    "    \n",
    "    pi  = np.pi\n",
    "    cos = math.cos\n",
    "    sin = math.sin\n",
    "\n",
    "\n",
    "    ###__constants__####\n",
    "\n",
    "    h0 =  45.959                    #height of the neck joint, cm\n",
    "    h2 =  5.071                     #position of the photomatrix relative to the neck joint along the Y axis, cm\n",
    "    h3 =  6.364                     #position of the photomatrix relative to the neck joint along the Z axis, cm\n",
    "    f  =  600                       #photomatrix-lens distanse, px\n",
    "\n",
    "\n",
    "    e1 =  np.array([0, 0, 1])              #Z axis vector \n",
    "    e2 =  np.array([1, 0, 0])              #X axis vector\n",
    "    H  =  h0 * e1                          #neck joint vector\n",
    "    L0 =  np.array([0, h2, h3])            #position of the lens reletive to neck joint vector\n",
    "    q0 = -np.array([x0, f, y0])            #position of the point on the photomatrix vector reletive to lens\n",
    "    Q0 =  L0 + q0                          #position of the point on the photomatrix vector reletive to neck joint\n",
    "\n",
    "\n",
    "\n",
    "    def rotation_matrix(axis, theta):\n",
    "        \"\"\"\n",
    "        Return the rotation matrix associated with counterclockwise rotation about\n",
    "        the given axis by theta radians.\n",
    "        \"\"\"\n",
    "        axis = np.asarray(axis)\n",
    "        axis = axis / math.sqrt(np.dot(axis, axis))\n",
    "        a = math.cos(theta / 2.0)\n",
    "        b, c, d = -axis * math.sin(theta / 2.0)\n",
    "        aa, bb, cc, dd = a * a, b * b, c * c, d * d\n",
    "        bc, ad, ac, ab, bd, cd = b * c, a * d, a * c, a * b, b * d, c * d\n",
    "        return np.array([[aa + bb - cc - dd, 2 * (bc + ad), 2 * (bd - ac)],\n",
    "                         [2 * (bc - ad), aa + cc - bb - dd, 2 * (cd + ab)],\n",
    "                         [2 * (bd + ac), 2 * (cd - ab), aa + dd - bb - cc]])\n",
    "\n",
    "\n",
    "    a1 =  pi/2 * k1                  #rotation around Z axis angle\n",
    "    a2 = -pi/2 * k2                  #incline  angle\n",
    "\n",
    "    R1 = rotation_matrix(e1, a1)     #rotaion around Z axis matrix\n",
    "    R2 = rotation_matrix(e2, a2)     #incline up-down matrix\n",
    "    R  = np.matmul(R1, R2)           #full rotation matrix\n",
    "\n",
    "\n",
    "    Q = R.dot(Q0) + H                #position of the point on the screen reletive to floor vector\n",
    "    q = R.dot(q0)                    #ligth ray vector\n",
    "    \n",
    "    return [Q, q]\n",
    "\n",
    "def point_position(k1, k2, x0, y0):\n",
    "    \"\"\"\n",
    "    Takes same args as calc_position\n",
    "    Returns the position of the point on the floor reletive to robot\n",
    "    \"\"\"\n",
    "    calc = position_calc(k1, k2, x0, y0)   #takes calculations from position_calc\n",
    "    \n",
    "    Q = calc[0]                            #position of the point on the screen reletive to floor vector\n",
    "    q = calc[1]                            #ligth ray vector\n",
    "    \n",
    "    A = Q - q * Q[2] / q[2]                #position of the point on the floor reletive to robot\n",
    "    \n",
    "    return A\n",
    "\n",
    "def ball_position(k1, k2, x0, y0):\n",
    "    \"\"\"\n",
    "    Takes same args as calc_position\n",
    "    Returns the position of the ball on the floor reletive to robot\n",
    "    \"\"\"    \n",
    "    r = 5                                  #radius of the ball\n",
    "    calc = position_calc(k1, k2, x0, y0)   #takes calculations from position_calc\n",
    "    \n",
    "    Q = calc[0]                            #position of the point on the screen reletive to floor vector\n",
    "    q = calc[1]                            #ligth ray vector\n",
    "    \n",
    "    \n",
    "    B = Q - q * (Q[2] - r) / q[2]          #position of the ball on the floor reletive to robot\n",
    "    B[2] = 0                               #on the floor z = 0\n",
    "    \n",
    "    return B\n",
    "    "
   ]
  },
  {
   "cell_type": "code",
   "execution_count": 61,
   "metadata": {},
   "outputs": [],
   "source": [
    "x0 =  1        #x coordinate of the point on the screen, pixels\n",
    "y0 = -1.3      #y coordinate of the point on the screen, pixels\n",
    "k1 = -0.1      #incline  angle.               from  0 t0 1\n",
    "k2 =  0.2      #rotation around Z axis angle. from -1 to 1\n",
    "\n",
    "A = point_position(k1, k2, x0, y0)\n",
    "B = ball_position(k1, k2, x0, y0)\n"
   ]
  },
  {
   "cell_type": "code",
   "execution_count": 62,
   "metadata": {},
   "outputs": [
    {
     "name": "stdout",
     "output_type": "stream",
     "text": [
      "[ 25.43976558 158.85779236   0.        ]\n",
      "[ 23.02365754 143.77433145   0.        ]\n"
     ]
    }
   ],
   "source": [
    "print(A)\n",
    "print(B)"
   ]
  },
  {
   "cell_type": "code",
   "execution_count": 63,
   "metadata": {},
   "outputs": [
    {
     "data": {
      "text/plain": [
       "1228800"
      ]
     },
     "execution_count": 63,
     "metadata": {},
     "output_type": "execute_result"
    }
   ],
   "source": []
  },
  {
   "cell_type": "code",
   "execution_count": null,
   "metadata": {},
   "outputs": [],
   "source": []
  }
 ],
 "metadata": {
  "kernelspec": {
   "display_name": "Python 3",
   "language": "python",
   "name": "python3"
  },
  "language_info": {
   "codemirror_mode": {
    "name": "ipython",
    "version": 3
   },
   "file_extension": ".py",
   "mimetype": "text/x-python",
   "name": "python",
   "nbconvert_exporter": "python",
   "pygments_lexer": "ipython3",
   "version": "3.7.1"
  }
 },
 "nbformat": 4,
 "nbformat_minor": 2
}
