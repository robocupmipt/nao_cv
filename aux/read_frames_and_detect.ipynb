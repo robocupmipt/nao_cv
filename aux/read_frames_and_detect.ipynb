{
 "cells": [
  {
   "cell_type": "code",
   "execution_count": 7,
   "metadata": {},
   "outputs": [
    {
     "data": {
      "text/plain": [
       "[0, 1]"
      ]
     },
     "execution_count": 7,
     "metadata": {},
     "output_type": "execute_result"
    }
   ],
   "source": [
    "import numpy as np\n",
    "import cv2\n",
    "import time\n",
    "from IPython.display import clear_output\n",
    "\n",
    "#WIND_X = 960\n",
    "#WIND_Y = 720\n",
    "\n",
    "WIND_X = 640\n",
    "WIND_Y = 480\n",
    "\n",
    "def get_available_cameras (upper_bound = 10, lower_bound = 0):\n",
    "    available = []\n",
    "    \n",
    "    for i in range (lower_bound, upper_bound):\n",
    "        cap = cv2.VideoCapture (i)\n",
    "    \n",
    "        if (cap.isOpened ()):\n",
    "            available.append (i)\n",
    "    \n",
    "        cap.release ()\n",
    "    \n",
    "    return available\n",
    "\n",
    "get_available_cameras ()"
   ]
  },
  {
   "cell_type": "code",
   "execution_count": 10,
   "metadata": {
    "scrolled": true
   },
   "outputs": [],
   "source": [
    "def draw_rectangle (img, rect):\n",
    "    res = cv2.rectangle (img.copy (), rect [0], rect [1], (255, 0, 0), 5)\n",
    "    \n",
    "    return res\n",
    "\n",
    "def detect_nothing (img):\n",
    "    return ((100, 200), (400, 350))\n",
    "\n",
    "cam = cv2.VideoCapture (1)\n",
    "\n",
    "cv2.namedWindow (\"frame\", cv2.WINDOW_NORMAL)\n",
    "cv2.resizeWindow (\"frame\", (WIND_X * 2, WIND_Y))\n",
    "\n",
    "while (True):\n",
    "    ret, frame = cam.read ()\n",
    "    \n",
    "    cv2.waitKey (1)\n",
    "        \n",
    "    resized = cv2.resize (frame, (WIND_X, WIND_Y))\n",
    "    \n",
    "    rect = detect_nothing (frame)\n",
    "    \n",
    "    mark_rect = draw_rectangle (resized, rect)\n",
    "    \n",
    "    output_image = np.concatenate ((resized, mark_rect), axis = 1)\n",
    "    \n",
    "    cv2.imshow (\"frame\", output_image)\n",
    "    \n",
    "    time.sleep (0.01)\n",
    "    \n",
    "    if (cv2.waitKey (1) & 0xFF == ord('q')):\n",
    "        break\n",
    "\n",
    "cam.release ()\n",
    "\n",
    "cv2.destroyAllWindows()"
   ]
  },
  {
   "cell_type": "code",
   "execution_count": null,
   "metadata": {},
   "outputs": [],
   "source": []
  }
 ],
 "metadata": {
  "kernelspec": {
   "display_name": "Python 3",
   "language": "python",
   "name": "python3"
  },
  "language_info": {
   "codemirror_mode": {
    "name": "ipython",
    "version": 3
   },
   "file_extension": ".py",
   "mimetype": "text/x-python",
   "name": "python",
   "nbconvert_exporter": "python",
   "pygments_lexer": "ipython3",
   "version": "3.7.1"
  }
 },
 "nbformat": 4,
 "nbformat_minor": 2
}
